{
 "cells": [
  {
   "cell_type": "code",
   "execution_count": 1,
   "id": "6451642c",
   "metadata": {},
   "outputs": [
    {
     "name": "stdout",
     "output_type": "stream",
     "text": [
      "<class 'int'>\n",
      "<class 'float'>\n",
      "<class 'bool'>\n",
      "<class 'str'>\n",
      "<class 'int'>\n",
      "55\n",
      "<class 'str'>\n",
      "<class 'str'>\n",
      "2.5\n",
      "<class 'float'>\n",
      "1\n",
      "<class 'set'>\n",
      "<class 'bool'>\n",
      "<class 'float'>\n"
     ]
    }
   ],
   "source": [
    "print(type(5))\n",
    "print(type(5.0))\n",
    "print(type(5 > 1))\n",
    "print(type('5'))\n",
    "print(type(5 * 2))\n",
    "print('5'*2)\n",
    "print(type('5' * 2))\n",
    "print(type('5' + '2'))\n",
    "print(5 / 2)\n",
    "print(type(5/2))\n",
    "print(5 % 2)\n",
    "print(type({5, 2, 1}))\n",
    "print(type(5 == 3))\n",
    "Pi = 3.14\n",
    "print(type(Pi))\n",
    "\n"
   ]
  },
  {
   "cell_type": "code",
   "execution_count": 2,
   "id": "9271cbd2",
   "metadata": {},
   "outputs": [
    {
     "name": "stdout",
     "output_type": "stream",
     "text": [
      "length of the String is  34\n",
      "Yes ice is present in string\n",
      "Supercalifragilisticexpialidocious\n",
      "Words in Dictionary order:  ['Bartok', 'Bellini', 'Berlioz', 'Bernstein', 'Borodin', 'Brian', 'Buxtehude']\n",
      "Bartok Buxtehude\n"
     ]
    }
   ],
   "source": [
    "string1 = 'Supercalifragilisticexpialidocious'\n",
    "string2 = 'Honorificabilitudinitatibus'\n",
    "string3 = 'Bababadalgharaghtakamminarronnkonn'\n",
    "print('length of the String is ' , len(string1))\n",
    "if string1.find('ice') > 0 :\n",
    "    print('Yes ice is present in string')\n",
    "else:\n",
    "    print('no string do not contain ice in it')\n",
    "largest_string = max(string1,string2,string3)\n",
    "print(largest_string)\n",
    "words = ['Berlioz', 'Borodin', 'Brian', 'Bartok', 'Bellini', 'Buxtehude', 'Bernstein']\n",
    "words.sort()\n",
    "print('Words in Dictionary order: ' , words)\n",
    "print(words[0],words[-1])\n"
   ]
  },
  {
   "cell_type": "code",
   "execution_count": 1,
   "id": "3791185b",
   "metadata": {},
   "outputs": [
    {
     "name": "stdout",
     "output_type": "stream",
     "text": [
      "Please enter dimentions a,b,c for Traingle\n",
      "Enter value of a:2\n",
      "Enter value of a:3\n",
      "Enter value of a:4\n",
      "Area of Traingle is:  2.9047375096555625\n"
     ]
    }
   ],
   "source": [
    "import math\n",
    "a, b, c, s = 0.0, 0.0, 0.0, 0.0\n",
    "print('Please enter dimentions a,b,c for Traingle')\n",
    "a, b, c = float(input('Enter value of a:')), float(input('Enter value of a:')), float(input('Enter value of a:'))\n",
    "s = (a+b+c)/2\n",
    "def triangleArea(a,b,c,s):\n",
    "    area = math.sqrt(s*(s-a)*(s-b)*(s-c))\n",
    "    return area\n",
    "print('Area of Traingle is: ', triangleArea(a,b,c,s))\n"
   ]
  },
  {
   "cell_type": "code",
   "execution_count": 36,
   "id": "34f4cd02",
   "metadata": {
    "scrolled": true
   },
   "outputs": [
    {
     "name": "stdout",
     "output_type": "stream",
     "text": [
      "Enter 5 elements to Array: \n",
      "element-0:25\n",
      "element-1:47\n",
      "element-2:42\n",
      "element-3:56\n",
      "element-4:32\n",
      "Even elements are:\n",
      "42\n",
      "56\n",
      "32\n",
      "Odd elements are:\n",
      "25\n",
      "47\n"
     ]
    }
   ],
   "source": [
    "a = [0,0,0,0,0]\n",
    "evenArray = []\n",
    "oddArray = []\n",
    "print('Enter 5 elements to Array: ')\n",
    "a[0]=input('element-0:')\n",
    "a[1]=input('element-1:') \n",
    "a[2]=input('element-2:') \n",
    "a[3]=input('element-3:') \n",
    "a[4]=input('element-4:') \n",
    "for i in a:\n",
    "    if (int(i)%2 == 0):\n",
    "        evenArray.append(i)\n",
    "    else:\n",
    "        oddArray.append(i)\n",
    "print('Even elements are:')\n",
    "for j in evenArray:\n",
    "    print(j)\n",
    "print('Odd elements are:')\n",
    "for k in oddArray:\n",
    "    print(k)\n",
    "\n"
   ]
  },
  {
   "cell_type": "code",
   "execution_count": 1,
   "id": "7fbfa214",
   "metadata": {},
   "outputs": [
    {
     "name": "stdout",
     "output_type": "stream",
     "text": [
      "x,y lies within the rectangle\n",
      "x,y do not lie within rectangle\n",
      "x,y do not lie within rectangle\n",
      "x,y lies within the rectangle\n"
     ]
    }
   ],
   "source": [
    "def inside(x,y,x1,y1,x2,y2):\n",
    "    if((x>x1 and x<x2) and (y>y1 and y<y2)):\n",
    "        print('x,y lies within the rectangle')\n",
    "    else:\n",
    "        print('x,y do not lie within rectangle')\n",
    "inside(1,1,0,0,2,3)\n",
    "inside(-1,-1,0,0,2,3)\n",
    "inside(1,1,0.3,0.5,1.1,0.7)\n",
    "inside(1,1,0.5,0.3,1.1,2)\n"
   ]
  },
  {
   "cell_type": "code",
   "execution_count": 5,
   "id": "bf9ee2c5",
   "metadata": {},
   "outputs": [
    {
     "name": "stdout",
     "output_type": "stream",
     "text": [
      "apphay\n",
      "Enterway\n"
     ]
    }
   ],
   "source": [
    "def pig(word):\n",
    "    vowels = ['a' , 'e' , 'i' , 'o' , 'u']\n",
    "    if(word[0].lower() in vowels):\n",
    "        word = word+'way'\n",
    "        print(word)\n",
    "    else:\n",
    "        word = word[1:-1]+word[0]+'ay'\n",
    "        print(word)\n",
    "pig('happy')\n",
    "pig('Enter')"
   ]
  },
  {
   "cell_type": "code",
   "execution_count": 35,
   "id": "cfc81684",
   "metadata": {},
   "outputs": [
    {
     "name": "stdout",
     "output_type": "stream",
     "text": [
      "There are  15 patients with blood group A\n",
      "There are  1 patients with blood group A\n",
      "There are  13 patients with blood group AB\n",
      "There are  15 patients with blood group O\n",
      "There are  0 patients with blood group OO\n"
     ]
    }
   ],
   "source": [
    "def bloodcount(filename):\n",
    "    infile = open(filename, 'r')\n",
    "    filetxt = infile.read()\n",
    "    bloodgrps = filetxt.split(' ')\n",
    "    print('There are ', bloodgrps.count('A') , 'patients with blood group A')\n",
    "    print('There are ', bloodgrps.count('B') , 'patients with blood group A')\n",
    "    print('There are ', bloodgrps.count('AB') , 'patients with blood group AB')\n",
    "    print('There are ', bloodgrps.count('O') , 'patients with blood group O')\n",
    "    print('There are ', bloodgrps.count('OO') , 'patients with blood group OO')\n",
    "bloodcount('bloodtype1.txt')"
   ]
  },
  {
   "cell_type": "code",
   "execution_count": 108,
   "id": "1cdc0ca7",
   "metadata": {},
   "outputs": [
    {
     "name": "stdout",
     "output_type": "stream",
     "text": [
      "122.96544\n",
      "1.241401\n"
     ]
    }
   ],
   "source": [
    "infile = open('currencies.txt','r')\n",
    "currencylist= infile.readlines()\n",
    "new_text=[]\n",
    "dictionary={}\n",
    "for text in currencylist:\n",
    "    new_text.append(text.replace('\\t',' ').split(' '))\n",
    "\n",
    "for text1 in new_text:\n",
    "    dictionary[text1[0]]=float(text1[1])\n",
    "\n",
    "def curconv(countrycode, amount):\n",
    "    amount_in_US_Dollar = amount*dictionary[countrycode]\n",
    "    print(amount_in_US_Dollar)\n",
    "\n",
    "curconv('EUR',100)\n",
    "curconv('JPY',100)"
   ]
  },
  {
   "cell_type": "code",
   "execution_count": 92,
   "id": "ae8403f6",
   "metadata": {},
   "outputs": [
    {
     "ename": "SyntaxError",
     "evalue": "illegal target for annotation (1551274266.py, line 1)",
     "output_type": "error",
     "traceback": [
      "\u001b[1;36m  Input \u001b[1;32mIn [92]\u001b[1;36m\u001b[0m\n\u001b[1;33m    print(6+'a')// Exception : supported operand type(s) for +: 'int' and 'str'\u001b[0m\n\u001b[1;37m    ^\u001b[0m\n\u001b[1;31mSyntaxError\u001b[0m\u001b[1;31m:\u001b[0m illegal target for annotation\n"
     ]
    }
   ],
   "source": [
    "print(6+'a')// Exception : supported operand type(s) for +: 'int' and 'str'\n",
    "list = [1,2,3,4,5,6,7,8,9,10]\n",
    "print(list[10])// Exception is list index out of range\n",
    "import math\n",
    "print(math.sqrt(-1))// Exception is math domain error\n",
    "print(x)// Error is name 'x' not defined\n",
    "infile = open('switch.txt')//[Errno 2] No such file or directory: 'switch.txt'\n",
    "\n"
   ]
  },
  {
   "cell_type": "code",
   "execution_count": 67,
   "id": "0b12eaf5",
   "metadata": {},
   "outputs": [
    {
     "name": "stdout",
     "output_type": "stream",
     "text": [
      "[1, 1, 1, 3, 5, 1, 1, 2, 1, 0, 1, 0, 1, 2, 4, 0, 1, 2, 0, 2, 1, 0, 1, 1, 0, 0]\n"
     ]
    }
   ],
   "source": [
    "def frequencies(message):\n",
    "    letters='abcdefghijklmnopqrstuvwxyz'\n",
    "    encryption=[]\n",
    "    for char in letters:\n",
    "        if(char in message):\n",
    "            encryption.append(message.count(char))\n",
    "        else:\n",
    "            encryption.append(0)\n",
    "    print(encryption)\n",
    "frequencies('The quick red fox got bored and went home.')"
   ]
  }
 ],
 "metadata": {
  "kernelspec": {
   "display_name": "Python 3 (ipykernel)",
   "language": "python",
   "name": "python3"
  },
  "language_info": {
   "codemirror_mode": {
    "name": "ipython",
    "version": 3
   },
   "file_extension": ".py",
   "mimetype": "text/x-python",
   "name": "python",
   "nbconvert_exporter": "python",
   "pygments_lexer": "ipython3",
   "version": "3.9.12"
  }
 },
 "nbformat": 4,
 "nbformat_minor": 5
}
